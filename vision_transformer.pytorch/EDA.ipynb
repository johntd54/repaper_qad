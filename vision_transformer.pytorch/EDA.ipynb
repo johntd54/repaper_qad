{
 "cells": [
  {
   "cell_type": "code",
   "execution_count": 137,
   "metadata": {},
   "outputs": [
    {
     "name": "stdout",
     "output_type": "stream",
     "text": [
      "The autoreload extension is already loaded. To reload it, use:\n",
      "  %reload_ext autoreload\n"
     ]
    }
   ],
   "source": [
    "%load_ext autoreload\n",
    "%autoreload 2"
   ]
  },
  {
   "cell_type": "markdown",
   "metadata": {},
   "source": [
    "## ImageNet training data augmentation"
   ]
  },
  {
   "cell_type": "code",
   "execution_count": 91,
   "metadata": {},
   "outputs": [],
   "source": [
    "from collections import defaultdict\n",
    "\n",
    "from torch.utils.data import Dataset\n",
    "from torchvision import transforms, datasets"
   ]
  },
  {
   "cell_type": "code",
   "execution_count": 127,
   "metadata": {},
   "outputs": [],
   "source": [
    "imagenet_train_transform = transforms.Compose([\n",
    "    transforms.ColorJitter(brightness=0.5, contrast=0.5, saturation=0.5, hue=0),\n",
    "    transforms.RandomHorizontalFlip(p=0.5),\n",
    "    transforms.RandomPerspective(),\n",
    "    transforms.Resize(256),\n",
    "    transforms.CenterCrop(224),\n",
    "    transforms.ToTensor(),\n",
    "    transforms.Normalize(mean=[0.485, 0.456, 0.406], std=[0.229, 0.224, 0.225])\n",
    "])"
   ]
  },
  {
   "cell_type": "code",
   "execution_count": 4,
   "metadata": {},
   "outputs": [],
   "source": [
    "FOLDER = '/home/john/datasets/imagenet/object_localization/train'\n",
    "image_dataset = datasets.ImageFolder(\n",
    "    root=FOLDER,\n",
    "    transform=imagenet_train_transform\n",
    ")"
   ]
  },
  {
   "cell_type": "code",
   "execution_count": 115,
   "metadata": {},
   "outputs": [
    {
     "data": {
      "text/plain": [
       "torch.Size([3, 224, 224])"
      ]
     },
     "execution_count": 115,
     "metadata": {},
     "output_type": "execute_result"
    }
   ],
   "source": [
    "imagenet_train_transform(image_dataset[1][0])"
   ]
  },
  {
   "cell_type": "code",
   "execution_count": 102,
   "metadata": {},
   "outputs": [
    {
     "name": "stderr",
     "output_type": "stream",
     "text": [
      "/home/john/miniconda3/envs/vision_transformer/lib/python3.7/site-packages/PIL/TiffImagePlugin.py:792: UserWarning: Corrupt EXIF data.  Expecting to read 2 bytes but only got 0. \n",
      "  warnings.warn(str(msg))\n",
      "/home/john/miniconda3/envs/vision_transformer/lib/python3.7/site-packages/PIL/TiffImagePlugin.py:771: UserWarning: Possibly corrupt EXIF data.  Expecting to read 8 bytes but only got 2. Skipping tag 41486\n",
      "  \"Possibly corrupt EXIF data.  \"\n",
      "/home/john/miniconda3/envs/vision_transformer/lib/python3.7/site-packages/PIL/TiffImagePlugin.py:771: UserWarning: Possibly corrupt EXIF data.  Expecting to read 8 bytes but only got 0. Skipping tag 41487\n",
      "  \"Possibly corrupt EXIF data.  \"\n",
      "/home/john/miniconda3/envs/vision_transformer/lib/python3.7/site-packages/PIL/TiffImagePlugin.py:771: UserWarning: Possibly corrupt EXIF data.  Expecting to read 8 bytes but only got 2. Skipping tag 41487\n",
      "  \"Possibly corrupt EXIF data.  \"\n",
      "/home/john/miniconda3/envs/vision_transformer/lib/python3.7/site-packages/PIL/TiffImagePlugin.py:771: UserWarning: Possibly corrupt EXIF data.  Expecting to read 1996 bytes but only got 0. Skipping tag 37500\n",
      "  \"Possibly corrupt EXIF data.  \"\n",
      "/home/john/miniconda3/envs/vision_transformer/lib/python3.7/site-packages/PIL/TiffImagePlugin.py:792: UserWarning: Corrupt EXIF data.  Expecting to read 12 bytes but only got 4. \n",
      "  warnings.warn(str(msg))\n",
      "/home/john/miniconda3/envs/vision_transformer/lib/python3.7/site-packages/PIL/TiffImagePlugin.py:771: UserWarning: Possibly corrupt EXIF data.  Expecting to read 6 bytes but only got 0. Skipping tag 271\n",
      "  \"Possibly corrupt EXIF data.  \"\n",
      "/home/john/miniconda3/envs/vision_transformer/lib/python3.7/site-packages/PIL/TiffImagePlugin.py:771: UserWarning: Possibly corrupt EXIF data.  Expecting to read 10 bytes but only got 0. Skipping tag 272\n",
      "  \"Possibly corrupt EXIF data.  \"\n",
      "/home/john/miniconda3/envs/vision_transformer/lib/python3.7/site-packages/PIL/TiffImagePlugin.py:771: UserWarning: Possibly corrupt EXIF data.  Expecting to read 8 bytes but only got 0. Skipping tag 282\n",
      "  \"Possibly corrupt EXIF data.  \"\n",
      "/home/john/miniconda3/envs/vision_transformer/lib/python3.7/site-packages/PIL/TiffImagePlugin.py:771: UserWarning: Possibly corrupt EXIF data.  Expecting to read 8 bytes but only got 0. Skipping tag 283\n",
      "  \"Possibly corrupt EXIF data.  \"\n",
      "/home/john/miniconda3/envs/vision_transformer/lib/python3.7/site-packages/PIL/TiffImagePlugin.py:771: UserWarning: Possibly corrupt EXIF data.  Expecting to read 19 bytes but only got 0. Skipping tag 305\n",
      "  \"Possibly corrupt EXIF data.  \"\n",
      "/home/john/miniconda3/envs/vision_transformer/lib/python3.7/site-packages/PIL/TiffImagePlugin.py:771: UserWarning: Possibly corrupt EXIF data.  Expecting to read 20 bytes but only got 0. Skipping tag 306\n",
      "  \"Possibly corrupt EXIF data.  \"\n",
      "/home/john/miniconda3/envs/vision_transformer/lib/python3.7/site-packages/PIL/TiffImagePlugin.py:792: UserWarning: Corrupt EXIF data.  Expecting to read 12 bytes but only got 2. \n",
      "  warnings.warn(str(msg))\n",
      "/home/john/miniconda3/envs/vision_transformer/lib/python3.7/site-packages/PIL/TiffImagePlugin.py:771: UserWarning: Possibly corrupt EXIF data.  Expecting to read 293732352 bytes but only got 0. Skipping tag 0\n",
      "  \"Possibly corrupt EXIF data.  \"\n",
      "/home/john/miniconda3/envs/vision_transformer/lib/python3.7/site-packages/PIL/TiffImagePlugin.py:771: UserWarning: Possibly corrupt EXIF data.  Expecting to read 327682 bytes but only got 0. Skipping tag 2\n",
      "  \"Possibly corrupt EXIF data.  \"\n",
      "/home/john/miniconda3/envs/vision_transformer/lib/python3.7/site-packages/PIL/TiffImagePlugin.py:771: UserWarning: Possibly corrupt EXIF data.  Expecting to read 262151 bytes but only got 0. Skipping tag 0\n",
      "  \"Possibly corrupt EXIF data.  \"\n",
      "/home/john/miniconda3/envs/vision_transformer/lib/python3.7/site-packages/PIL/TiffImagePlugin.py:771: UserWarning: Possibly corrupt EXIF data.  Expecting to read 285413634 bytes but only got 0. Skipping tag 780\n",
      "  \"Possibly corrupt EXIF data.  \"\n",
      "/home/john/miniconda3/envs/vision_transformer/lib/python3.7/site-packages/PIL/TiffImagePlugin.py:792: UserWarning: Corrupt EXIF data.  Expecting to read 12 bytes but only got 6. \n",
      "  warnings.warn(str(msg))\n",
      "/home/john/miniconda3/envs/vision_transformer/lib/python3.7/site-packages/PIL/TiffImagePlugin.py:771: UserWarning: Possibly corrupt EXIF data.  Expecting to read 121635060 bytes but only got 0. Skipping tag 4352\n",
      "  \"Possibly corrupt EXIF data.  \"\n",
      "/home/john/miniconda3/envs/vision_transformer/lib/python3.7/site-packages/PIL/TiffImagePlugin.py:771: UserWarning: Possibly corrupt EXIF data.  Expecting to read 981467296 bytes but only got 0. Skipping tag 16385\n",
      "  \"Possibly corrupt EXIF data.  \"\n",
      "/home/john/miniconda3/envs/vision_transformer/lib/python3.7/site-packages/PIL/TiffImagePlugin.py:792: UserWarning: Corrupt EXIF data.  Expecting to read 12 bytes but only got 3. \n",
      "  warnings.warn(str(msg))\n",
      "/home/john/miniconda3/envs/vision_transformer/lib/python3.7/site-packages/PIL/TiffImagePlugin.py:771: UserWarning: Possibly corrupt EXIF data.  Expecting to read 8 bytes but only got 4. Skipping tag 37381\n",
      "  \"Possibly corrupt EXIF data.  \"\n",
      "/home/john/miniconda3/envs/vision_transformer/lib/python3.7/site-packages/PIL/TiffImagePlugin.py:771: UserWarning: Possibly corrupt EXIF data.  Expecting to read 8 bytes but only got 0. Skipping tag 37386\n",
      "  \"Possibly corrupt EXIF data.  \"\n",
      "/home/john/miniconda3/envs/vision_transformer/lib/python3.7/site-packages/PIL/TiffImagePlugin.py:771: UserWarning: Possibly corrupt EXIF data.  Expecting to read 125 bytes but only got 112. Skipping tag 37510\n",
      "  \"Possibly corrupt EXIF data.  \"\n",
      "/home/john/miniconda3/envs/vision_transformer/lib/python3.7/site-packages/PIL/TiffImagePlugin.py:771: UserWarning: Possibly corrupt EXIF data.  Expecting to read 8 bytes but only got 4. Skipping tag 41487\n",
      "  \"Possibly corrupt EXIF data.  \"\n",
      "/home/john/miniconda3/envs/vision_transformer/lib/python3.7/site-packages/PIL/TiffImagePlugin.py:771: UserWarning: Possibly corrupt EXIF data.  Expecting to read 8 bytes but only got 4. Skipping tag 37380\n",
      "  \"Possibly corrupt EXIF data.  \"\n",
      "/home/john/miniconda3/envs/vision_transformer/lib/python3.7/site-packages/PIL/TiffImagePlugin.py:771: UserWarning: Possibly corrupt EXIF data.  Expecting to read 8 bytes but only got 0. Skipping tag 41730\n",
      "  \"Possibly corrupt EXIF data.  \"\n",
      "/home/john/miniconda3/envs/vision_transformer/lib/python3.7/site-packages/PIL/TiffImagePlugin.py:771: UserWarning: Possibly corrupt EXIF data.  Expecting to read 1258 bytes but only got 0. Skipping tag 37500\n",
      "  \"Possibly corrupt EXIF data.  \"\n"
     ]
    }
   ],
   "source": [
    "counter = defaultdict(int)\n",
    "start = 266065\n",
    "for idx in range(start+1, len(image_dataset)):\n",
    "    input_, label = image_dataset[idx]\n",
    "    counter[label] += 1"
   ]
  },
  {
   "cell_type": "markdown",
   "metadata": {},
   "source": [
    "## Test user models"
   ]
  },
  {
   "cell_type": "code",
   "execution_count": 139,
   "metadata": {},
   "outputs": [],
   "source": [
    "from model import ViT, Transformer"
   ]
  },
  {
   "cell_type": "code",
   "execution_count": 140,
   "metadata": {},
   "outputs": [],
   "source": [
    "vit = ViT(image_size=224, patch_size=28, num_classes=1000, dim=128, depth=3, heads=5,\n",
    "          mlp_dim=512)"
   ]
  },
  {
   "cell_type": "code",
   "execution_count": 141,
   "metadata": {},
   "outputs": [],
   "source": [
    "input_, label = image_dataset[1]\n",
    "input_ = imagenet_train_transform(input_)\n",
    "input_ = input_.unsqueeze(0)"
   ]
  },
  {
   "cell_type": "code",
   "execution_count": 142,
   "metadata": {},
   "outputs": [
    {
     "data": {
      "text/plain": [
       "torch.Size([1, 1000])"
      ]
     },
     "execution_count": 142,
     "metadata": {},
     "output_type": "execute_result"
    }
   ],
   "source": [
    "vit(input_).shape"
   ]
  },
  {
   "cell_type": "code",
   "execution_count": null,
   "metadata": {},
   "outputs": [],
   "source": []
  }
 ],
 "metadata": {
  "kernelspec": {
   "display_name": "vision_transformer",
   "language": "python",
   "name": "vision_transformer"
  },
  "language_info": {
   "codemirror_mode": {
    "name": "ipython",
    "version": 3
   },
   "file_extension": ".py",
   "mimetype": "text/x-python",
   "name": "python",
   "nbconvert_exporter": "python",
   "pygments_lexer": "ipython3",
   "version": "3.7.9"
  }
 },
 "nbformat": 4,
 "nbformat_minor": 4
}
